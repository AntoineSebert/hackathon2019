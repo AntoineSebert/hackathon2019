{
 "cells": [
  {
   "cell_type": "markdown",
   "metadata": {},
   "source": [
    "### Advanced Collections in Python\n",
    "Collections in Python are incredibly powerful tools. They are used very commonly in many aspects of data science, including AI. This exercise demonstrates some of their more advanced functionality.\n",
    "\n",
    "### Slicing in Python Lists\n",
    "Slicing is a simple but powerful concept within Python lists. It allows you to very quickly develop sublists from a much larger collection. Below are some of the rules associated with slicing."
   ]
  },
  {
   "cell_type": "code",
   "execution_count": 12,
   "metadata": {},
   "outputs": [
    {
     "name": "stdout",
     "output_type": "stream",
     "text": [
      "Before:  [1, 2]\n",
      "After:  [3, 4, 5, 6]\n",
      "Extract up to second last index from the start:  [1, 2, 3, 4]\n",
      "Sublist:  [3, 4]\n",
      "Reverse:  [6, 5, 4, 3, 2, 1]\n"
     ]
    }
   ],
   "source": [
    "listy = [1, 2, 3, 4, 5, 6]\n",
    "\n",
    "# When slicing, colons indicate which direction to approach the slice from.\n",
    "# A colon which precedes the value means start from the first index in the list.\n",
    "# A colon which follows the value means start from the last index in a list.\n",
    "# The difference is important, as colon-before is exclusive, while colon-after is inclusive.\n",
    "\n",
    "print(\"Before: \", listy[:2]) #This will extract up to (but not including the) value in index 2 in the list from the start\n",
    "print(\"After: \", listy[2:]) #This will extract up to (and including) the value in index 2 in the list from the end\n",
    "\n",
    "# We can use negative indices to start the slice from the end of the list.\n",
    "print(\"Extract up to second last index from the start: \", listy[:-2])\n",
    "\n",
    "# We can also define a sublist from within the list by placing the colon between values\n",
    "print(\"Sublist: \", listy[2:4])\n",
    "\n",
    "# We can also reverse the list, using an interesting little trick\n",
    "print(\"Reverse: \", listy[::-1])"
   ]
  },
  {
   "cell_type": "markdown",
   "metadata": {},
   "source": [
    "### Multi-Dimensional Lists\n",
    "Lists are a method of associating multiple pieces of data with a single variable. The data is not constrained to a particular type, meaning that you can develop lists of integers, Strings or even a list of Lists. However, the list cannot store data of varying types - meaning that you cannot insert an integer into a list of Strings."
   ]
  },
  {
   "cell_type": "code",
   "execution_count": 24,
   "metadata": {},
   "outputs": [
    {
     "name": "stdout",
     "output_type": "stream",
     "text": [
      "a\n",
      "x\n"
     ]
    }
   ],
   "source": [
    "x = ['a', 'b', 'c'] #a typical list\n",
    "y = [['a', 'b', 'c'], ['x', 'y', 'z']] #a list of lists - in this instance, a 2-dimensional list\n",
    "\n",
    "print(x[0]) #print the first element of x\n",
    "print(y[1][0]) #print the first value of the second element in y"
   ]
  },
  {
   "cell_type": "markdown",
   "metadata": {},
   "source": [
    "A list of lists is multi-dimensional. This means it considers multiple axis. For example in a 1-dimensional list, we have only one axis. In a 3-dimensional list, we are considering 3 axes. In this way, Python lists allow the manipulation of multi-dimensional data. \n",
    "\n",
    "Note that the number of dimensions is _not_ the number of elements in the list, but the number of axes. This is represented by the number of square brackets. The results is that wehn accessing from a list, you must specify the index along each axis."
   ]
  },
  {
   "cell_type": "code",
   "execution_count": 32,
   "metadata": {},
   "outputs": [
    {
     "name": "stdout",
     "output_type": "stream",
     "text": [
      "c\n",
      "c\n"
     ]
    }
   ],
   "source": [
    "two_dimension = [['a', 'b', 'c'], ['x', 'y', 'z']]\n",
    "three_dimension = [[['a', 'b', 'c']], [['x', 'y', 'z']]]\n",
    "\n",
    "print(two_dimension[0][2]) #retrieve the item with index 1 in axis 0, and index 2 in axis 1 \n",
    "print(three_dimension[0][0][2]) #for each additional dimension, we mst identify an additional axis for return"
   ]
  },
  {
   "cell_type": "markdown",
   "metadata": {},
   "source": [
    "All regular list methods will continue to work, regardless of the number of dimensions that a list has."
   ]
  },
  {
   "cell_type": "code",
   "execution_count": 33,
   "metadata": {},
   "outputs": [
    {
     "name": "stdout",
     "output_type": "stream",
     "text": [
      "[['a', 'b', 'c'], ['x', 'y', 'z'], ['m', 'n', 'o']]\n",
      "[[], [['x', 'y', 'z']]]\n"
     ]
    }
   ],
   "source": [
    "two_dimension.append(['m', 'n', 'o']) #append a list of items to the end of the current list of lists\n",
    "print(two_dimension)\n",
    "\n",
    "del three_dimension[0][0] #delete the list at the given index\n",
    "print(three_dimension)"
   ]
  },
  {
   "cell_type": "markdown",
   "metadata": {},
   "source": [
    "### Combining Lists in Python\n",
    "We can combine lists using a zip function. This is different from just appending lists together, as it combines lists so that values in the same index now exist within a tuple at that index. The example will make this clearer."
   ]
  },
  {
   "cell_type": "code",
   "execution_count": 20,
   "metadata": {},
   "outputs": [
    {
     "name": "stdout",
     "output_type": "stream",
     "text": [
      "[(1, 9), (2, 8), (3, 7)]\n",
      "1\n"
     ]
    }
   ],
   "source": [
    "list1 = [1, 2, 3]\n",
    "list2 = [9, 8, 7]\n",
    "\n",
    "list_combined = zip(list1, list2) #combine the lists\n",
    "list_combined = list(list_combined) #note that zip returns a zip object, so to use it we should cast it back to a list\n",
    "\n",
    "print(list_combined) #we now have a list of tuple objects\n",
    "\n",
    "print(list_combined[0][0]) #we can extract any index of the combined objects as we would a multi-dimension list\n"
   ]
  },
  {
   "cell_type": "markdown",
   "metadata": {},
   "source": [
    "### Randomness in Python\n",
    "There are going to be times when you want to utilise random elements in your code - particularly with lists. For example, when splitting a dataset, you may wish to ensure that the split is random, but ensure that you have 75% for training and 25% of the data in the list for testing."
   ]
  },
  {
   "cell_type": "code",
   "execution_count": 9,
   "metadata": {},
   "outputs": [
    {
     "name": "stdout",
     "output_type": "stream",
     "text": [
      "0.6177528569514706\n",
      "5\n",
      "5\n"
     ]
    }
   ],
   "source": [
    "import random #first import random\n",
    "random.seed(1337) #Python is psuedo-random, so for reproducability we should always include a random seed\n",
    "\n",
    "floaty = random.random() #This will generate a random number between 1 and 0 - a float value\n",
    "print(floaty) \n",
    "\n",
    "#To create a random int, multiply the random function by your range and cast it as an int\n",
    "inty = int(random.random() * 10) #in this example, our range is 10 - so a random number will be generated between 0 and 10\n",
    "print(inty)\n",
    "\n",
    "#However, there is already a shorthand way of achieving this in the original library\n",
    "inty = random.randint(0, 10) #generate a random integer between 0 and 10\n",
    "print(inty)"
   ]
  },
  {
   "cell_type": "markdown",
   "metadata": {},
   "source": [
    "### Randomness in Python Lists\n",
    "There are a variety of reasons that you may want to use randomness to make a selection of lists. The most important one is that you may wish to select a distribution which is representative of the original list. This is something that cannot be obtained through specific selections, but which random selection does efficiently"
   ]
  },
  {
   "cell_type": "code",
   "execution_count": 22,
   "metadata": {},
   "outputs": [
    {
     "name": "stdout",
     "output_type": "stream",
     "text": [
      "e\n",
      "t\n",
      "['c', 'd', 'e']\n",
      "['e', 'b', 'd']\n"
     ]
    }
   ],
   "source": [
    "import random\n",
    "random.seed(1337)\n",
    "\n",
    "letters = ['a', 'b', 'c', 'd', 'e']\n",
    "words = ['ant', 'bat', 'cat', 'div', 'ear']\n",
    "\n",
    "random_letter = letters[random.randint(0, len(letters)-1)] #take a random index between 0 and the length of the letters list\n",
    "print(random_letter)\n",
    "\n",
    "random_letter = words[0][random.randint(0, len(words[0])-1)] #take a random letter from the first element of the words list\n",
    "print(random_letter) #note that we must use len()-1, because a list of three elements will have indices [0, 1, 2]\n",
    "\n",
    "random_splice = letters[random.randint(0, len(letters)-1):] #create a sublist by splicing a list at a random index - note the colon\n",
    "print(random_splice)\n",
    "\n",
    "random_sublist = random.sample(letters, 3) #create an unordered sublist of random elements from the letters list\n",
    "print(random_sublist)"
   ]
  },
  {
   "cell_type": "markdown",
   "metadata": {},
   "source": [
    "### Dataset Example\n",
    "\n",
    "Lets use what we have covered so far to make a specific example. Lets say that we have a dataset where we want to identify flower types. Each flower type has a label (its name) and three pieces of data associated with it, representing petal-length, stalk-length and petal-radius respectively.\n",
    "\n",
    "I.e. 0.9, 5.5, 0.4, rose\n",
    "\n",
    "We want to preprocess that dataset before sending it to a machine learning algorithm, so we want to create a 66% training and 33% testing split."
   ]
  },
  {
   "cell_type": "code",
   "execution_count": 30,
   "metadata": {},
   "outputs": [
    {
     "name": "stdout",
     "output_type": "stream",
     "text": [
      "[0.9, 5.5, 0.4]\n",
      "Rose\n",
      "No Random Method:  [[0.9, 5.5, 0.4], [0.8, 5.0, 0.6], [1.2, 4.9, 0.4], [0.7, 6.5, 0.4], [0.6, 6.0, 0.4], [0.5, 6.2, 0.3]]\n",
      "['Rose', 'Rose', 'Rose', 'Petunia', 'Petunia', 'Petunia']\n",
      "Loop Method:  [[1.3, 10.5, 0.8], [0.6, 6.0, 0.4], [1.6, 11.0, 0.9], [0.5, 6.2, 0.3], [1.2, 4.9, 0.4], [1.5, 10.0, 0.9]]\n",
      "['Sunflower', 'Petunia', 'Sunflower', 'Petunia', 'Rose', 'Sunflower']\n",
      "[0.9, 5.5, 0.4]\n",
      "Zip Method:  [[0.9, 5.5, 0.4], [0.5, 6.2, 0.3], [0.7, 6.5, 0.4], [1.2, 4.9, 0.4], [1.5, 10.0, 0.9], [0.8, 5.0, 0.6]]\n",
      "['Rose', 'Petunia', 'Petunia', 'Rose', 'Sunflower', 'Rose']\n"
     ]
    }
   ],
   "source": [
    "random.seed(12)\n",
    "\n",
    "data = [] #first lets create the dataset\n",
    "labels = []\n",
    "\n",
    "data.append([0.9, 5.5, 0.4])\n",
    "labels.append('Rose')\n",
    "data.append([0.8, 5.0, 0.6])\n",
    "labels.append('Rose')\n",
    "data.append([1.2, 4.9, 0.4])\n",
    "labels.append('Rose')\n",
    "data.append([0.7, 6.5, 0.4])\n",
    "labels.append('Petunia')\n",
    "data.append([0.6, 6.0, 0.4])\n",
    "labels.append('Petunia')\n",
    "data.append([0.5, 6.2, 0.3])\n",
    "labels.append('Petunia')\n",
    "data.append([1.5, 10.0, 0.9])\n",
    "labels.append('Sunflower')\n",
    "data.append([1.3, 10.5, 0.8])\n",
    "labels.append('Sunflower')\n",
    "data.append([1.6, 11.0, 0.9])\n",
    "labels.append('Sunflower')\n",
    "\n",
    "#Each piece of data at an index in the list data corresponds to a label at the same index in the lists label\n",
    "print(data[0])\n",
    "print(labels[0])\n",
    "\n",
    "#We can observe that just splicing the dataset will be ineffective\n",
    "dataset_splice = data[:6]\n",
    "label_splice = labels[:6]\n",
    "\n",
    "print(\"No Random Method: \", dataset_splice)\n",
    "print(label_splice) #notice that one class is not even represented in the training set\n",
    "\n",
    "#Instead, lets try randomly selecting attributes from a list\n",
    "dataset_random = []\n",
    "label_random = []\n",
    "random_block = [] #a list of indices we have previously selected to prevent from repeating an indice\n",
    "\n",
    "for r in range(6):\n",
    "    random_range = len(data) - 1\n",
    "    random_index = random.randint(0, random_range)\n",
    "    while(random_index in random_block): #checks to see if we have used this value before\n",
    "        random_index = random.randint(0, random_range) #if so, we create a new random value\n",
    "    random_block.append(random_index)\n",
    "    dataset_random.append(data[random_index])\n",
    "    label_random.append(labels[random_index])\n",
    "    \n",
    "print(\"Loop Method: \", dataset_random)\n",
    "print(label_random) #though this method works, it is a slow way of doing things\n",
    "\n",
    "#A better option may be to use zip to use random_sample on both lists simultaneously\n",
    "dataset_zipped = zip(data, labels) \n",
    "dataset_random = random.sample(list(dataset_zipped), 6)\n",
    "dataset_zipped = []\n",
    "labels_zipped = []\n",
    "for d in dataset_random:\n",
    "    dataset_zipped.append(d[0])\n",
    "    labels_zipped.append(d[1])\n",
    "    \n",
    "print(\"Zip Method: \", dataset_zipped)\n",
    "print(labels_zipped)"
   ]
  },
  {
   "cell_type": "markdown",
   "metadata": {},
   "source": [
    "It is clear random is a better choice for achieving a good distribution of the data. However, as you may notice random does not guarantee a good distribution across labels. In fact, both times we used random, the dataset we created still had much more of one class in it than the others. To solve this, we have to use something called Stratified Random.\n",
    "\n",
    "### Stratified Random\n",
    "Stratified random ensures that although a random distribution of the data is taken, each label is fairly represented."
   ]
  },
  {
   "cell_type": "code",
   "execution_count": 53,
   "metadata": {},
   "outputs": [
    {
     "name": "stdout",
     "output_type": "stream",
     "text": [
      "[2, 1, 5, 3, 7, 8]\n",
      "[[0.8, 5.0, 0.6], [1.2, 4.9, 0.4], [0.7, 6.5, 0.4], [0.5, 6.2, 0.3], [1.3, 10.5, 0.8], [1.6, 11.0, 0.9]]\n",
      "['Rose', 'Rose', 'Petunia', 'Petunia', 'Sunflower', 'Sunflower']\n",
      "[[0.9, 5.5, 0.4], [0.6, 6.0, 0.4], [1.5, 10.0, 0.9]]\n",
      "['Rose', 'Petunia', 'Sunflower']\n"
     ]
    }
   ],
   "source": [
    "random.seed(1337)\n",
    "\n",
    "label_dictionary = {}\n",
    "\n",
    "for counter, value in enumerate(labels): #enumerate is a function that counts each value in a list - this count can be used as an index\n",
    "    if value not in label_dictionary:\n",
    "        label_dictionary[value] = [counter]\n",
    "    else:\n",
    "        label_dictionary[value] += [counter] #here we are just adding each label to the dictionary and storing its indices\n",
    "\n",
    "training_indices = []\n",
    "\n",
    "for label in label_dictionary:\n",
    "    random_selection = random.sample(label_dictionary[label], 2) #we randomly select two indices from each label\n",
    "    training_indices += random_selection #these form our training data for that label\n",
    "\n",
    "print(training_indices)\n",
    "\n",
    "training_data = []\n",
    "training_labels = []\n",
    "\n",
    "test_data = []\n",
    "test_labels = []\n",
    "\n",
    "for i in range(len(data)): #we then refer to the full dataset\n",
    "    if i in training_indices: #if the data is at an indice within our training_indices list\n",
    "        training_data.append(data[i])\n",
    "        training_labels.append(labels[i]) #we add that to the training_data\n",
    "    else:\n",
    "        test_data.append(data[i]) #otherwise, we add it to test data\n",
    "        test_labels.append(labels[i])\n",
    "\n",
    "print(training_data)\n",
    "print(training_labels)\n",
    "\n",
    "print(test_data)\n",
    "print(test_labels) #this means we extract data randomly, but evenly from each label"
   ]
  },
  {
   "cell_type": "code",
   "execution_count": null,
   "metadata": {},
   "outputs": [],
   "source": []
  }
 ],
 "metadata": {
  "kernelspec": {
   "display_name": "Python 3",
   "language": "python",
   "name": "python3"
  },
  "language_info": {
   "codemirror_mode": {
    "name": "ipython",
    "version": 3
   },
   "file_extension": ".py",
   "mimetype": "text/x-python",
   "name": "python",
   "nbconvert_exporter": "python",
   "pygments_lexer": "ipython3",
   "version": "3.6.5"
  }
 },
 "nbformat": 4,
 "nbformat_minor": 2
}
