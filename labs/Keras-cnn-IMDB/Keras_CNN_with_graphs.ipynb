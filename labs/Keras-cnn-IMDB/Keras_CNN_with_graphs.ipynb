{
 "cells": [
  {
   "cell_type": "markdown",
   "metadata": {},
   "source": [
    "## Using Keras to train and evaluate a CNN\n",
    "\n",
    "In this exercise, we will demonstrate how you can use keras to create, train and evaluate your own CNN algorithm on the imdb movie reviews dataset.\n",
    "\n",
    "### Keras Imports\n",
    "As Keras is a library, most of its functionality must be imported."
   ]
  },
  {
   "cell_type": "code",
   "execution_count": 62,
   "metadata": {},
   "outputs": [],
   "source": [
    "import numpy as np\n",
    "import pandas as pd\n",
    "from matplotlib import pyplot\n",
    "\n",
    "import keras\n",
    "#Import sequence preprocessing methods\n",
    "from keras.preprocessing import sequence\n",
    "\n",
    "#Import the sequential architecture\n",
    "from keras.models import Sequential\n",
    "\n",
    "#Import the different layers needed to create a CNN\n",
    "#First, import your convolutional and max pooling layers\n",
    "from keras.layers import Conv1D, GlobalMaxPooling1D\n",
    "#Next, we import the dense (fully-connected) and embedding layers\n",
    "from keras.layers import Dense, Embedding\n",
    "#Finally, import your layer activations and regulizers - in this case, dropout and activation functions\n",
    "from keras.layers import Dropout, Activation\n",
    "\n",
    "#Keras offers us the ability to import datasets directly into our code using a number of presets.\n",
    "#We can import all the datasets at once, but it consumes memory, so its better to import only the required one.\n",
    "from keras.datasets import imdb"
   ]
  },
  {
   "cell_type": "code",
   "execution_count": 58,
   "metadata": {},
   "outputs": [],
   "source": [
    "np.random.seed(1)"
   ]
  },
  {
   "cell_type": "markdown",
   "metadata": {},
   "source": [
    "# Load the Dataset\n",
    "Unlike in some of our previous labs, Keras will handle the loading and splitting of the dataset for us in a single function call. This split is static (i.e. it does not change between runs) and is already stratified. If you want to design your own split, or use an evaluation methodology (such as cross-fold-validation or hold out) on your data, then additional work will be required.\n",
    "\n",
    "In this lab we will use the supplied Keras split, but you should keep the above in mind for your coursework."
   ]
  },
  {
   "cell_type": "markdown",
   "metadata": {},
   "source": [
    "### imdb.load_data\n",
    "Dataset of 25,000 movies reviews from IMDB, labeled by sentiment (positive/negative). Reviews have been preprocessed, and each review is encoded as a sequence of word indexes (integers). For convenience, words are indexed by overall frequency in the dataset, so that for instance the integer \"3\" encodes the 3rd most frequent word in the data. This allows for quick filtering operations such as: \"only consider the top 10,000 most common words, but eliminate the top 20 most common words\".\n",
    "\n",
    "\n",
    "That dictionary that is inverted when using load_data assumes the word indices start from 1.\n",
    "\n",
    "Keras uses index \"0\" to encode any unknown word; index 1 and 2 to mark the START of a sentence and any out of vocabulary (oov_char ) words such as stop words.\n",
    "Also oov_char replaces words that were cut out because of the num_words or skip_top limit.\n",
    "The parameter index_from parameter can be used to miss out these extra indexed word annotates.\n",
    "\n",
    "See [keras.datasets.imdb.load_data](https://keras.io/datasets/#imdb-movie-reviews-sentiment-classification ) method they explain what is being loaded. \n",
    "\n",
    "So basically the representation has already removed stop words and most of the puntuation and less frequent words are removed from text during preprocessing. \n",
    "\n",
    "It returns 2 tuples:\n",
    "- x_train, x_test: list of sequences, which are lists of indexes (integers). If the num_words argument was specified, the maximum possible index value is num_words-1. If the maxlen argument was specified, the largest possible sequence length is maxlen.\n",
    "- y_train, y_test: list of integer labels (1 or 0)."
   ]
  },
  {
   "cell_type": "code",
   "execution_count": 59,
   "metadata": {},
   "outputs": [
    {
     "name": "stdout",
     "output_type": "stream",
     "text": [
      "Loading data...\n",
      "An example looks like this:\n",
      "[1, 14, 22, 16, 43, 530, 973, 2, 2, 65, 458, 2, 66, 2, 4, 173, 36, 256, 5, 25, 100, 43, 838, 112, 50, 670, 2, 9, 35, 480, 284, 5, 150, 4, 172, 112, 167, 2, 336, 385, 39, 4, 172, 2, 2, 17, 546, 38, 13, 447, 4, 192, 50, 16, 6, 147, 2, 19, 14, 22, 4, 2, 2, 469, 4, 22, 71, 87, 12, 16, 43, 530, 38, 76, 15, 13, 2, 4, 22, 17, 515, 17, 12, 16, 626, 18, 2, 5, 62, 386, 12, 8, 316, 8, 106, 5, 4, 2, 2, 16, 480, 66, 2, 33, 4, 130, 12, 16, 38, 619, 5, 25, 124, 51, 36, 135, 48, 25, 2, 33, 6, 22, 12, 215, 28, 77, 52, 5, 14, 407, 16, 82, 2, 8, 4, 107, 117, 2, 15, 256, 4, 2, 7, 2, 5, 723, 36, 71, 43, 530, 476, 26, 400, 317, 46, 7, 4, 2, 2, 13, 104, 88, 4, 381, 15, 297, 98, 32, 2, 56, 26, 141, 6, 194, 2, 18, 4, 226, 22, 21, 134, 476, 26, 480, 5, 144, 30, 2, 18, 51, 36, 28, 224, 92, 25, 104, 4, 226, 65, 16, 38, 2, 88, 12, 16, 283, 5, 16, 2, 113, 103, 32, 15, 16, 2, 19, 178, 32]\n",
      "An example class label vector looks like this: 1\n",
      "(25000,) train sequences\n",
      "(25000,) test sequences\n"
     ]
    }
   ],
   "source": [
    "MAX_FEATURES=1000 # only use top 1000 words\n",
    "INDEX_FROM =3   # word index offset\n",
    "\n",
    "#Load the dataset, and print the length of the train and test sets.\n",
    "print('Loading data...')\n",
    "\n",
    "(x_train, y_train), (x_test, y_test) = imdb.load_data(num_words=MAX_FEATURES, index_from=INDEX_FROM)\n",
    "print('An example looks like this:')\n",
    "print(x_train[0])\n",
    "print('An example class label vector looks like this:', y_train[0])\n",
    "print(x_train.shape, 'train sequences')\n",
    "print(x_test.shape, 'test sequences')"
   ]
  },
  {
   "cell_type": "markdown",
   "metadata": {},
   "source": [
    "## How can we view the raw text? \n",
    "Since the load method provides the already indexed IDs of the word and not the raw words we can use word_to_id method to return the actual word from its index value."
   ]
  },
  {
   "cell_type": "code",
   "execution_count": 60,
   "metadata": {},
   "outputs": [
    {
     "name": "stdout",
     "output_type": "stream",
     "text": [
      "An example review reconstructed from the index:\n",
      "<START> this film was just brilliant casting <OOV> <OOV> story direction <OOV> really <OOV> the part they played and you could just imagine being there robert <OOV> is an amazing actor and now the same being director <OOV> father came from the same <OOV> <OOV> as myself so i loved the fact there was a real <OOV> with this film the <OOV> <OOV> throughout the film were great it was just brilliant so much that i <OOV> the film as soon as it was released for <OOV> and would recommend it to everyone to watch and the <OOV> <OOV> was amazing really <OOV> at the end it was so sad and you know what they say if you <OOV> at a film it must have been good and this definitely was also <OOV> to the two little <OOV> that played the <OOV> of <OOV> and paul they were just brilliant children are often left out of the <OOV> <OOV> i think because the stars that play them all <OOV> up are such a big <OOV> for the whole film but these children are amazing and should be <OOV> for what they have done don't you think the whole story was so <OOV> because it was true and was <OOV> life after all that was <OOV> with us all\n"
     ]
    }
   ],
   "source": [
    "\n",
    "# A dictionary mapping words to an integer index\n",
    "word_to_id = keras.datasets.imdb.get_word_index()\n",
    "word_to_id = {k:(v+INDEX_FROM) for k,v in word_to_id.items()}\n",
    "\n",
    "# The first indices are reserved\n",
    "word_to_id[\"<PAD>\"] = 0\n",
    "word_to_id[\"<START>\"] = 1\n",
    "word_to_id[\"<OOV>\"] = 2\n",
    "#word_to_id[\"<UNUSED>\"] = 3\n",
    "\n",
    "id_to_word = {value:key for key,value in word_to_id.items()}\n",
    "print('An example review reconstructed from the index:')\n",
    "print(' '.join(id_to_word[id] for id in x_train[0] ))"
   ]
  },
  {
   "cell_type": "markdown",
   "metadata": {},
   "source": [
    "## Get Vocabulary and max length stats"
   ]
  },
  {
   "cell_type": "code",
   "execution_count": 31,
   "metadata": {},
   "outputs": [
    {
     "name": "stdout",
     "output_type": "stream",
     "text": [
      "Training data: \n",
      "(50000,)\n",
      "(50000,)\n"
     ]
    }
   ],
   "source": [
    "X = np.concatenate((x_train, x_test), axis=0)\n",
    "y = np.concatenate((y_train, y_test), axis=0)\n",
    "\n",
    "# summarize size\n",
    "print(\"Training data: \")\n",
    "print(X.shape)\n",
    "print(y.shape)"
   ]
  },
  {
   "cell_type": "code",
   "execution_count": 32,
   "metadata": {},
   "outputs": [
    {
     "name": "stdout",
     "output_type": "stream",
     "text": [
      "Classes: \n",
      "[0 1]\n"
     ]
    }
   ],
   "source": [
    "# Summarize number of classes\n",
    "print(\"Classes: \")\n",
    "print(np.unique(y))\n",
    "\n"
   ]
  },
  {
   "cell_type": "code",
   "execution_count": 33,
   "metadata": {},
   "outputs": [
    {
     "name": "stdout",
     "output_type": "stream",
     "text": [
      "Number of words: \n",
      "998\n"
     ]
    }
   ],
   "source": [
    "# Summarize number of words\n",
    "print(\"Number of words: \")\n",
    "print(len(np.unique(np.hstack(X))))"
   ]
  },
  {
   "cell_type": "markdown",
   "metadata": {},
   "source": [
    "Interestingly, we can see that there are just under 100,000 words across the entire dataset.\n",
    "\n",
    "Finally, we can get an idea of the average review length."
   ]
  },
  {
   "cell_type": "code",
   "execution_count": 34,
   "metadata": {},
   "outputs": [
    {
     "name": "stdout",
     "output_type": "stream",
     "text": [
      "Review length: \n",
      "Mean 234.76 words (172.911495)\n"
     ]
    },
    {
     "data": {
      "image/png": "[encoded data removed]",
      "text/plain": [
       "<matplotlib.figure.Figure at 0x2c5f1d93cc0>"
      ]
     },
     "metadata": {},
     "output_type": "display_data"
    }
   ],
   "source": [
    "# Summarize review length\n",
    "print(\"Review length: \")\n",
    "result = [len(x) for x in X]\n",
    "print(\"Mean %.2f words (%f)\" % (np.mean(result), np.std(result)))\n",
    "# plot review length\n",
    "pyplot.boxplot(result)\n",
    "pyplot.show()"
   ]
  },
  {
   "cell_type": "markdown",
   "metadata": {},
   "source": [
    "Looking a box and whisker plot for the review lengths in words, we can probably see an exponential distribution that we can probably cover the mass of the distribution with a clipped length of 400 to 500 words."
   ]
  },
  {
   "cell_type": "markdown",
   "metadata": {},
   "source": [
    "# Set parameters"
   ]
  },
  {
   "cell_type": "code",
   "execution_count": 35,
   "metadata": {},
   "outputs": [],
   "source": [
    "# set parameters:\n",
    "#max_features = 5000\n",
    "maxlen = 400\n",
    "batch_size = 128\n",
    "embedding_dims = 32\n",
    "filters = 250\n",
    "kernel_size = 3\n",
    "hidden_dims = 250\n",
    "epochs = 1"
   ]
  },
  {
   "cell_type": "markdown",
   "metadata": {},
   "source": [
    "### Pad the Dataset\n",
    "After we have loaded the dataset, we need to pad it so that all examples are the same size for submission to the network. We can do that by using a function in Keras.\n",
    "Here we will bound reviews at maxlen words, truncating longer reviews and zero-padding shorter reviews.\n",
    "\n",
    "Note that padding will not be needed if you are using sparse representatsions such as from a tfidf vectoriser. \n"
   ]
  },
  {
   "cell_type": "code",
   "execution_count": 36,
   "metadata": {},
   "outputs": [
    {
     "name": "stdout",
     "output_type": "stream",
     "text": [
      "Pad sequences (samples x time)\n",
      "x_train shape: (25000, 400)\n",
      "x_test shape: (25000, 400)\n",
      "After padding the example looks:\n",
      "[  0   0   0   0   0   0   0   0   0   0   0   0   0   0   0   0   0   0\n",
      "   0   0   0   0   0   0   0   0   0   0   0   0   0   0   0   0   0   0\n",
      "   0   0   0   0   0   0   0   0   0   0   0   0   0   0   0   0   0   0\n",
      "   0   0   0   0   0   0   0   0   0   0   0   0   0   0   0   0   0   0\n",
      "   0   0   0   0   0   0   0   0   0   0   0   0   0   0   0   0   0   0\n",
      "   0   0   0   0   0   0   0   0   0   0   0   0   0   0   0   0   0   0\n",
      "   0   0   0   0   0   0   0   0   0   0   0   0   0   0   0   0   0   0\n",
      "   0   0   0   0   0   0   0   0   0   0   0   0   0   0   0   0   0   0\n",
      "   0   0   0   0   0   0   0   0   0   0   0   0   0   0   0   0   0   0\n",
      "   0   0   0   0   0   0   0   0   0   0   0   0   0   0   0   0   0   0\n",
      "   0   0   1  14  22  16  43 530 973   2   2  65 458   2  66   2   4 173\n",
      "  36 256   5  25 100  43 838 112  50 670   2   9  35 480 284   5 150   4\n",
      " 172 112 167   2 336 385  39   4 172   2   2  17 546  38  13 447   4 192\n",
      "  50  16   6 147   2  19  14  22   4   2   2 469   4  22  71  87  12  16\n",
      "  43 530  38  76  15  13   2   4  22  17 515  17  12  16 626  18   2   5\n",
      "  62 386  12   8 316   8 106   5   4   2   2  16 480  66   2  33   4 130\n",
      "  12  16  38 619   5  25 124  51  36 135  48  25   2  33   6  22  12 215\n",
      "  28  77  52   5  14 407  16  82   2   8   4 107 117   2  15 256   4   2\n",
      "   7   2   5 723  36  71  43 530 476  26 400 317  46   7   4   2   2  13\n",
      " 104  88   4 381  15 297  98  32   2  56  26 141   6 194   2  18   4 226\n",
      "  22  21 134 476  26 480   5 144  30   2  18  51  36  28 224  92  25 104\n",
      "   4 226  65  16  38   2  88  12  16 283   5  16   2 113 103  32  15  16\n",
      "   2  19 178  32]\n"
     ]
    }
   ],
   "source": [
    "#Find the max example size and ensure that all other examples are padded to this size\n",
    "print('Pad sequences (samples x time)')\n",
    "x_train = sequence.pad_sequences(x_train, maxlen=maxlen)\n",
    "x_test = sequence.pad_sequences(x_test, maxlen=maxlen)\n",
    "\n",
    "#Print the data's shape (i.e. the size of each dimension) to check this is done correctly.\n",
    "print('x_train shape:', x_train.shape)\n",
    "print('x_test shape:', x_test.shape)\n",
    "print('After padding the example looks:')\n",
    "print(x_train[0])\n",
    "\n",
    "num_classes = len(np.unique(y))\n",
    "# convert class labels to binary class one-hot-encoded vectors\n",
    "y_train_ohe = keras.utils.to_categorical(y_train, num_classes)\n",
    "y_test_ohe = keras.utils.to_categorical(y_test, num_classes)"
   ]
  },
  {
   "cell_type": "markdown",
   "metadata": {},
   "source": [
    "# Exercise\n",
    "Try to recreate the textual content after the padding has been added. You can use the word_to_id method as we did before."
   ]
  },
  {
   "cell_type": "markdown",
   "metadata": {},
   "source": [
    "### Creating the CNN Architecture\n",
    "Now lets create a CNN object to store some aspects of our model. We need to identify several things at this stage:\n",
    "\n",
    "(1) The parameters of our model (i.e. the hyperparameters of the CNN)\n",
    "\n",
    "(2) The architecture of our model (i.e. the layers of the CNN)\n",
    "\n",
    "Firstly lets define the architecture of the model by creating the layers. "
   ]
  },
  {
   "cell_type": "code",
   "execution_count": 37,
   "metadata": {},
   "outputs": [],
   "source": [
    "def create_model(max_features = 5000, embedding_dims = 50,  maxlen = 400, filters = 250, kernel_size = 3, hidden_dims = 250):\n",
    "    #Firstly, instantiate a sequential model\n",
    "    model = Sequential()\n",
    "\n",
    "    #We can now add layers to this model.\n",
    "    #Layers are added in the order of Input -> Output (meaning that they are sequential hence the name).\n",
    "    #Start off with an efficient embedding layer which maps vocab indices into embedding_dims dimensions\n",
    "    model.add(Embedding(max_features, embedding_dims, input_length=maxlen))\n",
    "    \n",
    "    #Now lets add a Dropout layer to avoid over fitting\n",
    "    model.add(Dropout(0.2))\n",
    "\n",
    "    #Add a Convolution1D, which will learn filters\n",
    "    model.add(Conv1D(filters, kernel_size, padding='valid', activation='relu', strides=1))\n",
    "    \n",
    "    #The use max pooling:\n",
    "    model.add(GlobalMaxPooling1D())\n",
    "\n",
    "    #Add a hidden layer:\n",
    "    model.add(Dense(hidden_dims))\n",
    "    #With dropout\n",
    "    model.add(Dropout(0.2))\n",
    "    #And a ReLU activation\n",
    "    model.add(Activation('relu'))\n",
    "\n",
    "    #Project onto a single unit output layer\n",
    "    model.add(Dense(num_classes)) # this will be two for the pos, neg class set\n",
    "    #And squash it with a sigmoid, so that we can predit positive or negative\n",
    "    #model.add(Activation('sigmoid'))\n",
    "    model.add(Activation('softmax'))\n",
    "    return model"
   ]
  },
  {
   "cell_type": "markdown",
   "metadata": {},
   "source": [
    "## Create the Model"
   ]
  },
  {
   "cell_type": "code",
   "execution_count": 38,
   "metadata": {},
   "outputs": [
    {
     "name": "stdout",
     "output_type": "stream",
     "text": [
      "_________________________________________________________________\n",
      "Layer (type)                 Output Shape              Param #   \n",
      "=================================================================\n",
      "embedding_2 (Embedding)      (None, 400, 50)           250000    \n",
      "_________________________________________________________________\n",
      "dropout_3 (Dropout)          (None, 400, 50)           0         \n",
      "_________________________________________________________________\n",
      "conv1d_2 (Conv1D)            (None, 398, 250)          37750     \n",
      "_________________________________________________________________\n",
      "global_max_pooling1d_2 (Glob (None, 250)               0         \n",
      "_________________________________________________________________\n",
      "dense_3 (Dense)              (None, 250)               62750     \n",
      "_________________________________________________________________\n",
      "dropout_4 (Dropout)          (None, 250)               0         \n",
      "_________________________________________________________________\n",
      "activation_3 (Activation)    (None, 250)               0         \n",
      "_________________________________________________________________\n",
      "dense_4 (Dense)              (None, 2)                 502       \n",
      "_________________________________________________________________\n",
      "activation_4 (Activation)    (None, 2)                 0         \n",
      "=================================================================\n",
      "Total params: 351,002\n",
      "Trainable params: 351,002\n",
      "Non-trainable params: 0\n",
      "_________________________________________________________________\n"
     ]
    }
   ],
   "source": [
    "#Firstly, lets create our model by calling the function we just made\n",
    "cnn = create_model()\n",
    "cnn.summary()"
   ]
  },
  {
   "cell_type": "markdown",
   "metadata": {},
   "source": [
    "### Setting the Hyperparameters\n",
    "Now that we have a function to create our model, we can apply the training hyperparameters to it."
   ]
  },
  {
   "cell_type": "code",
   "execution_count": 51,
   "metadata": {},
   "outputs": [],
   "source": [
    "#Now lets state the hyperparameters as variables\n",
    "batch_size = 128\n",
    "epochs = 1\n",
    "metrics = 'accuracy'\n",
    "\n",
    "#Loss dictates what function we should use to determine the error\n",
    "loss = 'binary_crossentropy'\n",
    "\n",
    "#The optimizer is the function which controls how that error is applied to the network\n",
    "optimizer = 'adam'"
   ]
  },
  {
   "cell_type": "code",
   "execution_count": 52,
   "metadata": {},
   "outputs": [
    {
     "name": "stdout",
     "output_type": "stream",
     "text": [
      "Train on 25000 samples, validate on 25000 samples\n",
      "Epoch 1/10\n",
      "25000/25000 [==============================] - 392s 16ms/step - loss: 0.3135 - acc: 0.8680 - val_loss: 0.2963 - val_acc: 0.8735\n",
      "Epoch 2/10\n",
      "25000/25000 [==============================] - 386s 15ms/step - loss: 0.2683 - acc: 0.8893 - val_loss: 0.3088 - val_acc: 0.8682\n",
      "Epoch 3/10\n",
      "25000/25000 [==============================] - 394s 16ms/step - loss: 0.2362 - acc: 0.9059 - val_loss: 0.2811 - val_acc: 0.8811\n",
      "Epoch 4/10\n",
      "25000/25000 [==============================] - 396s 16ms/step - loss: 0.2120 - acc: 0.9149 - val_loss: 0.2826 - val_acc: 0.8831\n",
      "Epoch 5/10\n",
      "25000/25000 [==============================] - 391s 16ms/step - loss: 0.1837 - acc: 0.9288 - val_loss: 0.3055 - val_acc: 0.8799\n",
      "Epoch 6/10\n",
      "25000/25000 [==============================] - 389s 16ms/step - loss: 0.1602 - acc: 0.9374 - val_loss: 0.3159 - val_acc: 0.8780\n",
      "Epoch 7/10\n",
      "25000/25000 [==============================] - 389s 16ms/step - loss: 0.1367 - acc: 0.9488 - val_loss: 0.3187 - val_acc: 0.8784\n",
      "Epoch 8/10\n",
      "25000/25000 [==============================] - 393s 16ms/step - loss: 0.1176 - acc: 0.9550 - val_loss: 0.3774 - val_acc: 0.8727\n",
      "Epoch 9/10\n",
      "25000/25000 [==============================] - 386s 15ms/step - loss: 0.1040 - acc: 0.9615 - val_loss: 0.4031 - val_acc: 0.8706\n",
      "Epoch 10/10\n",
      "25000/25000 [==============================] - 386s 15ms/step - loss: 0.1068 - acc: 0.9588 - val_loss: 0.3845 - val_acc: 0.8762\n"
     ]
    }
   ],
   "source": [
    "epochs=10 # takes a long time!! try 1 epoch first\n",
    "\n",
    "#Now we can compile and train our model\n",
    "#When compiling, note that accuracy is a list - this is because you can state more than one metric\n",
    "cnn.compile(loss = loss,  optimizer = optimizer, metrics = ['accuracy'])\n",
    "\n",
    "#The 'fit' function will train on your data, and evaluate the accuracy of its performance on the test set at each epoch\n",
    "#First call the function and specify training data\n",
    "history = cnn.fit(x_train, y_train_ohe, \n",
    "        #The identify the batch size\n",
    "        batch_size = batch_size, \n",
    "        #Specify your epochs\n",
    "        epochs = epochs, \n",
    "        #And identify your test data (remember to put brackets around both x_test and y_test)\n",
    "        validation_data = (x_test, y_test_ohe))\n",
    "\n",
    "\n"
   ]
  },
  {
   "cell_type": "markdown",
   "metadata": {},
   "source": [
    "# Evaluate on test set"
   ]
  },
  {
   "cell_type": "code",
   "execution_count": 53,
   "metadata": {},
   "outputs": [
    {
     "name": "stdout",
     "output_type": "stream",
     "text": [
      "Training Accuracy: 0.9906\n",
      "Testing Accuracy:  0.8762\n"
     ]
    }
   ],
   "source": [
    "loss, accuracy = cnn.evaluate(x_train, y_train_ohe, verbose=False)\n",
    "print(\"Training Accuracy: {:.4f}\".format(accuracy))\n",
    "loss, accuracy = cnn.evaluate(x_test, y_test_ohe, verbose=False)\n",
    "print(\"Testing Accuracy:  {:.4f}\".format(accuracy))\n",
    "\n",
    "#score = cnn.evaluate(x_test, y_test_ohe, verbose=0)\n",
    "#print('Test accuracy: ', score[1])\n"
   ]
  },
  {
   "cell_type": "markdown",
   "metadata": {},
   "source": [
    "Lets create helper function to visualize the loss and accuracy for the training and testing data based on the History callback. This callback, which is automatically applied to each Keras model, records the loss and additional metrics that can be added in the .fit() method. In this case, we are only interested in the accuracy. This helper function employs the matplotlib plotting library:"
   ]
  },
  {
   "cell_type": "code",
   "execution_count": 54,
   "metadata": {},
   "outputs": [],
   "source": [
    "import matplotlib.pyplot as plt\n",
    "plt.style.use('ggplot')\n",
    "\n",
    "def plot_history(history):\n",
    "    acc = history.history['acc']\n",
    "    val_acc = history.history['val_acc']\n",
    "    loss = history.history['loss']\n",
    "    val_loss = history.history['val_loss']\n",
    "    x = range(1, len(acc) + 1)\n",
    "\n",
    "    plt.figure(figsize=(12, 5))\n",
    "    plt.subplot(1, 2, 1)\n",
    "    plt.plot(x, acc, 'b', label='Training acc')\n",
    "    plt.plot(x, val_acc, 'r', label='Validation acc')\n",
    "    plt.title('Training and validation accuracy')\n",
    "    plt.legend()\n",
    "    plt.subplot(1, 2, 2)\n",
    "    plt.plot(x, loss, 'b', label='Training loss')\n",
    "    plt.plot(x, val_loss, 'r', label='Validation loss')\n",
    "    plt.title('Training and validation loss')\n",
    "    plt.legend()"
   ]
  },
  {
   "cell_type": "code",
   "execution_count": 55,
   "metadata": {},
   "outputs": [
    {
     "data": {
      "image/png": "[encoded data removed]",
      "text/plain": [
       "<matplotlib.figure.Figure at 0x2c5a541fc50>"
      ]
     },
     "metadata": {},
     "output_type": "display_data"
    }
   ],
   "source": [
    "plot_history(history)"
   ]
  },
  {
   "cell_type": "markdown",
   "metadata": {},
   "source": [
    "The above demonstrates clearly that there is over fitting since training accuracy is significantly better than test / validation.\n",
    "The sweet spot is around 1 or 2 epochs."
   ]
  },
  {
   "cell_type": "markdown",
   "metadata": {},
   "source": [
    "# Exercise\n",
    "- Compare the above CNN with  basic ANN i.e. no convolutional and padding layers\n",
    "- With the CNN there is a lot of opportunity for further optimization, such as the use of deeper and/or larger convolutional layers. These will all take longer on the machine. One interesting idea is to set the max pooling layer to use an input length of 500. This would compress each feature map to a single 32 length vector and may boost performance.\n"
   ]
  },
  {
   "cell_type": "markdown",
   "metadata": {},
   "source": [
    "# Preparing text from CSV files for CNN input\n",
    "\n",
    "Often we may want to read our data from a CSV and if it is text content them we want to santise that text for instance using regular expressions or stemming etc (as we did last week). \n",
    "Once that is done we need to convert it into a index vector that can be input in to the CNN. \n",
    "\n",
    "For this we make use of the keras tokeniser  and texts_to_sequence encoder. \n",
    "from keras.preprocessing.text import Tokenizer\n",
    "\n",
    "We look at how to do this next. "
   ]
  },
  {
   "cell_type": "code",
   "execution_count": 101,
   "metadata": {},
   "outputs": [],
   "source": [
    "import os\n",
    "#from sklearn.feature_extraction.text import CountVectorizer, TfidfTransformer, TfidfVectorizer\n",
    "#from sklearn.feature_extraction.text import TfidfTransformer\n",
    "\n",
    "import nltk\n"
   ]
  },
  {
   "cell_type": "code",
   "execution_count": 102,
   "metadata": {},
   "outputs": [],
   "source": [
    "#import regular expressions to clean up the text\n",
    "import re\n",
    "def preprocessor(text):\n",
    "    text = re.sub('<[^>]*>', '', text) # remove all html markup\n",
    "    emoticons = re.findall('(?::|;|=)(?:-)?(?:\\)|\\(|D|P)', text) # findall the emoticons\n",
    "    \n",
    "    # remove the non-word chars '[\\W]+'\n",
    "    # append the emoticons to end \n",
    "    #convert all to lowercase\n",
    "    # remove nose char for consistency\n",
    "    text = (re.sub('[\\W]+', ' ', text.lower()) +\n",
    "            ' '.join(emoticons).replace('-', '')) \n",
    "    return text"
   ]
  },
  {
   "cell_type": "code",
   "execution_count": 110,
   "metadata": {},
   "outputs": [],
   "source": [
    "from nltk.stem.porter import PorterStemmer\n",
    "df = pd.read_csv('movie_data_cat.csv', encoding='utf-8')\n",
    "\n",
    "class_mapping = {label:idx for idx,label in enumerate(np.unique(df['sentiment']))}\n",
    "\n",
    "#use the mapping dictionary to transform the class labels into integers\n",
    "\n",
    "df['sentiment'] = df['sentiment'].map(class_mapping)\n",
    "\n",
    "\n",
    "df['review'] = df['review'].apply(preprocessor)\n",
    "\n",
    "#make a train test split\n",
    "X_text_train = df.loc[:2500, 'review'].values\n",
    "Y_train = df.loc[:2500, 'sentiment'].values\n",
    "X_text_test = df.loc[2500:5000, 'review'].values\n",
    "Y_test = df.loc[2500:5000, 'sentiment'].values\n",
    "\n",
    "# convert class labels to binary class one-hot-encoded vectors\n",
    "Y_train_ohe = keras.utils.to_categorical(Y_train, num_classes)\n",
    "Y_test_ohe = keras.utils.to_categorical(Y_test, num_classes)"
   ]
  },
  {
   "cell_type": "code",
   "execution_count": 104,
   "metadata": {},
   "outputs": [
    {
     "name": "stdout",
     "output_type": "stream",
     "text": [
      "in 1974 the teenager martha moxley maggie grace moves to the high class area of belle haven greenwich connecticut on the mischief night eve of halloween she was murdered in the backyard of her house and her murder remained unsolved twenty two years later the writer mark fuhrman christopher meloni who is a former la detective that has fallen in disgrace for perjury in o j simpson trial and moved to idaho decides to investigate the case with his partner stephen weeks andrew mitchell with the purpose of writing a book the locals squirm and do not welcome them but with the support of the retired detective steve carroll robert forster that was in charge of the investigation in the 70 s they discover the criminal and a net of power and money to cover the murder murder in greenwich is a good tv movie with the true story of a murder of a fifteen years old girl that was committed by a wealthy teenager whose mother was a kennedy the powerful and rich family used their influence to cover the murder for more than twenty years however a snoopy detective and convicted perjurer in disgrace was able to disclose how the hideous crime was committed the screenplay shows the investigation of mark and the last days of martha in parallel but there is a lack of the emotion in the dramatization my vote is seven title brazil not available\n"
     ]
    }
   ],
   "source": [
    "print(X_text_train[0])"
   ]
  },
  {
   "cell_type": "markdown",
   "metadata": {},
   "source": [
    "### How do we convert the text to a format suited to keras CNN input?"
   ]
  },
  {
   "cell_type": "code",
   "execution_count": 132,
   "metadata": {
    "scrolled": true
   },
   "outputs": [
    {
     "name": "stdout",
     "output_type": "stream",
     "text": [
      "Num of training documnets 2501\n",
      "train vocabulary size: 28784\n",
      "test vocabulary size: 28784\n",
      "[8, 1, 2221, 2296, 4002, 1229, 1347, 5, 1, 294, 821, 1371, 4, 4663, 799, 21, 1, 303, 4664, 4, 1889, 53, 13, 1836, 8, 1, 4, 40, 342, 3, 40, 477, 4665, 1720, 106, 152, 290, 1, 513, 653, 1249, 34, 6, 2, 1031, 1605, 1348, 11, 46, 2574, 8, 15, 8, 654, 1450, 2485, 3, 1250, 5, 1251, 5, 4003, 1, 393, 16, 24, 1721, 2088, 2486, 4666, 2575, 16, 1, 1606, 4, 437, 2, 295, 1, 3, 78, 23, 2089, 93, 18, 16, 1, 1284, 4, 1, 1348, 958, 514, 11, 13, 8, 2576, 4, 1, 2390, 8, 1, 1451, 12, 32, 1837, 1, 1517, 3, 2, 4, 633, 3, 292, 5, 934, 1, 477, 477, 8, 6, 2, 47, 214, 17, 16, 1, 254, 62, 4, 2, 477, 4, 2, 2805, 152, 164, 240, 11, 13, 1838, 33, 2, 4311, 2221, 669, 395, 13, 2, 2222, 1, 969, 3, 1059, 215, 323, 61, 2297, 5, 934, 1, 477, 15, 52, 74, 1720, 152, 192, 2, 1348, 3, 8, 13, 520, 5, 90, 1, 4312, 604, 13, 1838, 1, 1126, 263, 1, 2390, 4, 653, 3, 1, 218, 511, 4, 2296, 8, 18, 39, 6, 2, 697, 4, 1, 1722, 8, 1, 56, 2032, 6, 1349, 447, 2697, 23, 1403]\n",
      "[10, 17, 6, 358, 77, 81, 4, 31, 1, 62, 6, 41, 913, 3, 7, 12, 23, 47, 441, 7, 693, 22, 16, 1288, 50, 22, 167, 1850, 548, 11, 12, 600, 18, 23, 8, 10, 393, 1, 117, 6, 175, 5, 972, 339, 44, 1, 1631, 121, 2, 600, 261, 18, 1, 383, 651, 8, 4160, 32, 27, 383, 121, 23, 2, 47, 261, 9, 179, 1, 485, 206, 4197, 4920, 14, 2555, 13, 251, 69, 5, 29, 1198, 9, 137, 23, 266, 11, 13, 1, 485, 206, 109, 160, 2819, 34, 10, 17, 13, 44, 2555, 42, 39, 68, 48, 619, 11, 3597, 43, 18, 120, 31, 39, 68, 175, 44, 1, 566, 1, 479, 192, 13, 122, 39, 13, 2, 316, 638, 2, 119, 983, 289, 4, 638, 147, 10, 146, 20, 170, 38, 36, 983, 19, 5, 70, 7, 67, 48, 634, 4, 36, 983, 19, 18, 7, 13, 52, 4, 2, 387, 192, 7, 13, 259, 5, 489, 34, 10, 19, 13, 1052, 15, 369, 1019, 39, 6, 94, 72, 967, 3, 608, 15, 11, 1631, 9, 86, 20, 126, 7, 67, 5, 114, 634, 4, 2, 369, 12, 17, 8, 7, 7, 13, 38, 2, 1082, 17, 8, 2, 369, 17, 1, 62, 13, 41, 913, 9, 86, 20, 26, 72, 4, 36, 344, 4, 49, 7, 65, 13, 44, 22, 13, 1091, 230, 8, 5, 7, 233, 1069, 235, 18, 39, 68, 31, 1, 57, 1822, 5, 145, 22, 372, 22, 144, 126, 1, 205, 11, 1, 369, 12, 911, 68, 329, 15, 2167, 3, 11, 2555, 15, 7, 22, 711, 5, 85, 5, 126, 49, 575, 18, 22, 109, 202, 31, 317, 10, 17, 13, 77, 3, 2, 448, 4, 57, 39, 13, 64, 1727, 8, 7, 175, 5, 65, 844, 1, 62, 1073, 10, 6, 23, 49, 22, 1011, 124, 1671, 303, 21]\n"
     ]
    }
   ],
   "source": [
    "from keras.preprocessing.text import Tokenizer\n",
    "# create the tokenizer\n",
    "tokeniser = Tokenizer(num_words=5000)\n",
    "\n",
    "# fit the tokenizer on the documents\n",
    "tokeniser.fit_on_texts(X_text_train)\n",
    "\n",
    "# summarize what was learned\n",
    "#print(tokeniser.word_counts)\n",
    "#print(tokeniser.word_index)\n",
    "#print(tokeniser.word_docs)\n",
    "print('Num of training documnets', tokeniser.document_count)\n",
    "\n",
    "\n",
    "# integer encode documents\n",
    "X_encoded_train = tokeniser.texts_to_sequences(X_text_train) \n",
    "#X_encoded_train2 = tokeniser.sequences_to_matrix(X_encoded_train, mode='tfidf').tolist() # can try for tfidf representation\n",
    "train_vocab_size = len(tokeniser.word_index) + 1 # Adding 1 because of reserved 0 index\n",
    "\n",
    "X_encoded_test = tokeniser.texts_to_sequences(X_text_test) \n",
    "test_vocab_size = len(tokeniser.word_index) + 1 # Adding 1 because of reserved 0 index\n",
    "\n",
    "print ('train vocabulary size:', train_vocab_size)\n",
    "print ('test vocabulary size:', test_vocab_size)\n"
   ]
  },
  {
   "cell_type": "code",
   "execution_count": 119,
   "metadata": {},
   "outputs": [
    {
     "name": "stdout",
     "output_type": "stream",
     "text": [
      "Pad sequences (samples x time)\n",
      "x_train shape: (2501, 400)\n",
      "x_test shape: (2501, 400)\n",
      "After padding the example looks:\n",
      "[   0    0    0    0    0    0    0    0    0    0    0    0    0    0\n",
      "    0    0    0    0    0    0    0    0    0    0    0    0    0    0\n",
      "    0    0    0    0    0    0    0    0    0    0    0    0    0    0\n",
      "    0    0    0    0    0    0    0    0    0    0    0    0    0    0\n",
      "    0    0    0    0    0    0    0    0    0    0    0    0    0    0\n",
      "    0    0    0    0    0    0    0    0    0    0    0    0    0    0\n",
      "    0    0    0    0    0    0    0    0    0    0    0    0    0    0\n",
      "    0    0    0    0    0    0    0    0    0    0    0    0    0    0\n",
      "    0    0    0    0    0    0    0    0    0    0    0    0    0    0\n",
      "    0    0    0    0    0    0    0    0    0    0    0    0    0    0\n",
      "    0    0    0    0    0    0    0    0    0    0    0    0    0    0\n",
      "    0    0    0    0    0    0    0    0    0    0    0    0    0    0\n",
      "    0    0    0    0    0    0    0    0    0    0    0    0    0    0\n",
      "    0    0    0    0    0    8    1 2221 2296 4002 1229 1347    5    1\n",
      "  294  821 1371    4 4663  799   21    1  303 4664    4 1889   53   13\n",
      " 1836    8    1    4   40  342    3   40  477 4665 1720  106  152  290\n",
      "    1  513  653 1249   34    6    2 1031 1605 1348   11   46 2574    8\n",
      "   15    8  654 1450 2485    3 1250    5 1251    5 4003    1  393   16\n",
      "   24 1721 2088 2486 4666 2575   16    1 1606    4  437    2  295    1\n",
      "    3   78   23 2089   93   18   16    1 1284    4    1 1348  958  514\n",
      "   11   13    8 2576    4    1 2390    8    1 1451   12   32 1837    1\n",
      " 1517    3    2    4  633    3  292    5  934    1  477  477    8    6\n",
      "    2   47  214   17   16    1  254   62    4    2  477    4    2 2805\n",
      "  152  164  240   11   13 1838   33    2 4311 2221  669  395   13    2\n",
      " 2222    1  969    3 1059  215  323   61 2297    5  934    1  477   15\n",
      "   52   74 1720  152  192    2 1348    3    8   13  520    5   90    1\n",
      " 4312  604   13 1838    1 1126  263    1 2390    4  653    3    1  218\n",
      "  511    4 2296    8   18   39    6    2  697    4    1 1722    8    1\n",
      "   56 2032    6 1349  447 2697   23 1403]\n"
     ]
    }
   ],
   "source": [
    "#Find the max example size and ensure that all other examples are padded to this size\n",
    "# NOTE: padding is not needed when using tfidf sparce representations\n",
    "print('Pad sequences (samples x time)')\n",
    "X_train = sequence.pad_sequences(X_encoded_train, maxlen=maxlen)\n",
    "X_test = sequence.pad_sequences(X_encoded_test, maxlen=maxlen)\n",
    "\n",
    "#Print the data's shape (i.e. the size of each dimension) to check this is done correctly.\n",
    "print('x_train shape:', X_train.shape)\n",
    "print('x_test shape:', X_test.shape)\n",
    "print('After padding the example looks:')\n",
    "print(X_train[0])"
   ]
  },
  {
   "cell_type": "markdown",
   "metadata": {},
   "source": [
    "# Exercise\n",
    "Now that the input is in the same format as we had when we loaded it directly from Keras; we can now use this as input into a CNN. \n",
    "This means that you can now compare the models from last week on text classification with the CNN model using similar text pre-processing steps. "
   ]
  },
  {
   "cell_type": "code",
   "execution_count": 120,
   "metadata": {},
   "outputs": [
    {
     "name": "stdout",
     "output_type": "stream",
     "text": [
      "_________________________________________________________________\n",
      "Layer (type)                 Output Shape              Param #   \n",
      "=================================================================\n",
      "embedding_2 (Embedding)      (None, 400, 50)           250000    \n",
      "_________________________________________________________________\n",
      "dropout_3 (Dropout)          (None, 400, 50)           0         \n",
      "_________________________________________________________________\n",
      "conv1d_2 (Conv1D)            (None, 398, 250)          37750     \n",
      "_________________________________________________________________\n",
      "global_max_pooling1d_2 (Glob (None, 250)               0         \n",
      "_________________________________________________________________\n",
      "dense_3 (Dense)              (None, 250)               62750     \n",
      "_________________________________________________________________\n",
      "dropout_4 (Dropout)          (None, 250)               0         \n",
      "_________________________________________________________________\n",
      "activation_3 (Activation)    (None, 250)               0         \n",
      "_________________________________________________________________\n",
      "dense_4 (Dense)              (None, 2)                 502       \n",
      "_________________________________________________________________\n",
      "activation_4 (Activation)    (None, 2)                 0         \n",
      "=================================================================\n",
      "Total params: 351,002\n",
      "Trainable params: 351,002\n",
      "Non-trainable params: 0\n",
      "_________________________________________________________________\n"
     ]
    }
   ],
   "source": [
    "cnn.summary()"
   ]
  },
  {
   "cell_type": "code",
   "execution_count": 121,
   "metadata": {},
   "outputs": [
    {
     "name": "stdout",
     "output_type": "stream",
     "text": [
      "Train on 2501 samples, validate on 2501 samples\n",
      "Epoch 1/1\n",
      "2501/2501 [==============================] - 26s 10ms/step - loss: 0.5016 - acc: 0.8069 - val_loss: 0.5919 - val_acc: 0.6877\n"
     ]
    }
   ],
   "source": [
    "history = cnn.fit(X_train, Y_train_ohe, \n",
    "        #The identify the batch size\n",
    "        batch_size = batch_size, \n",
    "        #Specify your epochs\n",
    "        epochs = 1, \n",
    "        #And identify your test data (remember to put brackets around both x_test and y_test)\n",
    "        validation_data = (X_test, Y_test_ohe))\n"
   ]
  },
  {
   "cell_type": "code",
   "execution_count": null,
   "metadata": {},
   "outputs": [],
   "source": []
  }
 ],
 "metadata": {
  "kernelspec": {
   "display_name": "Python 3",
   "language": "python",
   "name": "python3"
  },
  "language_info": {
   "codemirror_mode": {
    "name": "ipython",
    "version": 3
   },
   "file_extension": ".py",
   "mimetype": "text/x-python",
   "name": "python",
   "nbconvert_exporter": "python",
   "pygments_lexer": "ipython3",
   "version": "3.6.4"
  }
 },
 "nbformat": 4,
 "nbformat_minor": 2
}
