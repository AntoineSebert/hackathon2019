{
 "cells": [
  {
   "cell_type": "markdown",
   "metadata": {},
   "source": [
    "### Variables in Python\n",
    "Python does not require you to declare variables. Variables are given an appropriate data type when they are allocated a value. Variable names are case sensitive, and must start with a letter or underscore character"
   ]
  },
  {
   "cell_type": "code",
   "execution_count": 21,
   "metadata": {},
   "outputs": [],
   "source": [
    "x = 1 #x is an int\n",
    "x = \"one\" #x is now a string\n",
    "\n",
    "x = 1\n",
    "X = 2\n",
    "_x = 3 \n",
    "x2 = 4 #these are all distinct variables"
   ]
  },
  {
   "cell_type": "markdown",
   "metadata": {},
   "source": [
    "### Numbers in Python\n",
    "There are three types of numbers that python can store - integers, floats and complex. Variables can be converted from one type to another by casting them. These variables can then be used to perform various mathematical functionsusing standard mathematical and logical opperators."
   ]
  },
  {
   "cell_type": "code",
   "execution_count": 2,
   "metadata": {},
   "outputs": [],
   "source": [
    "x = 1 #x is an int\n",
    "y = 1.2 #y is a float\n",
    "z = 1j #z is a complex number (note that j defines the imaginary portion)\n",
    "\n",
    "x = float(x) #x is now a float with value 1.0\n",
    "y = int(y) #y is now an int with value 2\n",
    "z = str(z) #z is now a string with value \"1j\"\n",
    "\n",
    "x2 = x + x #this will return a float with value 2.0"
   ]
  },
  {
   "cell_type": "markdown",
   "metadata": {},
   "source": [
    "### Strings in Python\n",
    "Strings are the only method to store text in basic Python (there is no 'char' data type). A character is just stored as a String with a length of 1. Strings can be declared with either single ' or double \" quotation marks."
   ]
  },
  {
   "cell_type": "code",
   "execution_count": 3,
   "metadata": {},
   "outputs": [
    {
     "name": "stdout",
     "output_type": "stream",
     "text": [
      "Hello World!\n",
      "Jello World!\n",
      "12\n",
      "hello world!\n",
      "HELLO WORLD!\n",
      "H\n"
     ]
    }
   ],
   "source": [
    "x = \"Hello World!\" #x now has a value of \"Hello World!\"\n",
    "\n",
    "print(x) #the print function will print to console\n",
    "print(x.replace(\"H\", \"J\")) #replace all H's with J's\n",
    "print(len(x)) #print the length of the String (i.e. number of characters)\n",
    "print(x.lower()) #print the String in lower case\n",
    "print(x.upper()) #print the String in Upper case\n",
    "print(x[0]) #print the first letter in the string"
   ]
  },
  {
   "cell_type": "markdown",
   "metadata": {},
   "source": [
    "### Python Collections\n",
    "#### There are four collection types in Python:\n",
    "-  List is a collection which is ordered and changeable. Allows duplicate members.\n",
    "-  Tuple is a collection which is ordered and unchangeable. Allows duplicate members.\n",
    "-  Set is a collection which is unordered and unindexed. No duplicate members.\n",
    "-  Dictionary is a collection which is unordered, changeable and indexed. No duplicate members."
   ]
  },
  {
   "cell_type": "code",
   "execution_count": 7,
   "metadata": {},
   "outputs": [
    {
     "name": "stdout",
     "output_type": "stream",
     "text": [
      "1\n",
      "5\n",
      "1\n",
      "{2, 3, 4, 5}\n",
      "1\n",
      "dict_keys(['one', 'two', 'three', 'four', 'five'])\n",
      "dict_items([('one', 2), ('two', 2), ('three', 3), ('four', 4), ('five', 5)])\n"
     ]
    }
   ],
   "source": [
    "myList = [1, 2, 3, 4, 4] #Python list\n",
    "myTuple = (1, 2, 3, 4, 4) #Python Tuple\n",
    "mySet = {1, 2, 3, 4, 5} #Python Set\n",
    "myDictionary = {\"one\":1, \"two\":2, \"three\":3, \"four\":4, \"five\":5} #Python Dictionary\n",
    "\n",
    "#Lists are the simplest form of collection in Python and they operate much the same as in other languages\n",
    "\n",
    "print(myList[0]) #return the first element of a list by giving its index\n",
    "myList[0] = 5 #change the first value of a List by giving its index\n",
    "print(len(myList)) #print the number of items in this list\n",
    "myList.append(6) #add a value to the end of this list\n",
    "\n",
    "myList.remove(6) #remove a value from this list\n",
    "del myList[4] #remove a value from this list given its index\n",
    "\n",
    "#Similarly, we can access the value of a Tuple given its index\n",
    "print(myTuple[0])\n",
    "\n",
    "#But we can never change or add to a Tuple after it has been created\n",
    "\n",
    "#Sets are lists with two constraints 1) they are unindexed and 2) they may contain no duplicates\n",
    "#As such, you cannot retrieve a value from a Set by specifying its index - instead, you must loop through the Set\n",
    "#In addition, Sets are unordered\n",
    "#They are useful when you want to remove all duplicates from a list, for example\n",
    "print(set(myList))\n",
    "\n",
    "#Dictionaries are the collection which stores variables in key-value pairs\n",
    "#Keys must be unique, such that you can use them to retrieve their given value\n",
    "print(myDictionary[\"one\"])\n",
    "\n",
    "#Items in a dictionary can be changed by giving their key\n",
    "myDictionary[\"one\"] = 2\n",
    "\n",
    "print(myDictionary.keys()) #print all the keys in a dictionary - returned as a list\n",
    "print(myDictionary.items()) #print all the key-value pairs in a dictionary - returned as list of tuples"
   ]
  },
  {
   "cell_type": "markdown",
   "metadata": {},
   "source": [
    "A lot of the work covered in this module will rely heavily on being able to use Python collections effectively. It is important that you understand them.\n",
    "\n",
    "### If-Else Statements in Python\n",
    "Python relies on indentation for many things, including defining functions, if statements and loops. If your code is incorrectly indented, then it will not run."
   ]
  },
  {
   "cell_type": "code",
   "execution_count": 8,
   "metadata": {},
   "outputs": [
    {
     "name": "stdout",
     "output_type": "stream",
     "text": [
      "Yes!\n",
      "x != z\n"
     ]
    }
   ],
   "source": [
    "x = 1\n",
    "y = 1\n",
    "z = 2\n",
    "\n",
    "if(x == y): #if statement ending in a colon\n",
    "    print(\"Yes!\") #note the indentation\n",
    "\n",
    "if(x == y and x == z): #if statement with logical operator - note Python uses words, not the characters that other languages like java use\n",
    "    print(\"Nope\")\n",
    "else:\n",
    "    print(\"x != z\")"
   ]
  },
  {
   "cell_type": "markdown",
   "metadata": {},
   "source": [
    "### Loops in Python\n",
    "Python loops can either be While loops, or For loops."
   ]
  },
  {
   "cell_type": "code",
   "execution_count": 10,
   "metadata": {},
   "outputs": [
    {
     "name": "stdout",
     "output_type": "stream",
     "text": [
      "0\n",
      "1\n",
      "2\n",
      "3\n",
      "4\n",
      "10\n",
      "9\n",
      "8\n",
      "7\n",
      "6\n"
     ]
    }
   ],
   "source": [
    "for x in range(5): #this for loop states \"for each number until the value 5\"\n",
    "    print(x) #Again note the indentation\n",
    "    \n",
    "y = 10\n",
    "\n",
    "while y > 5: #this while loop states \"while the value of y is greater than 0\" \n",
    "    print(y)\n",
    "    y -= 1"
   ]
  },
  {
   "cell_type": "markdown",
   "metadata": {},
   "source": [
    "Notice that these loops are mutually exclusive - i.e, x will never print 5, because the loop breaks as 5 is reached.\n",
    "\n",
    "### Python Classes\n",
    "Python is an object oriented language meaning that is manipulated frequently using defined classes, objects, functions and methods."
   ]
  },
  {
   "cell_type": "code",
   "execution_count": 20,
   "metadata": {},
   "outputs": [
    {
     "name": "stdout",
     "output_type": "stream",
     "text": [
      "5\n",
      "Name:  Kelly  Age:  18\n",
      "Name:  Kelly  Age:  19\n",
      "5\n"
     ]
    }
   ],
   "source": [
    "class myClass: #define a class with the class keyword and a name\n",
    "    x = 5 #indent and define a variable for that class\n",
    "    \n",
    "example = myClass() #instantiate an object version of that class\n",
    "print(example.x) #print the variable x associated with that class\n",
    "\n",
    "class Person:\n",
    "    def __init__(self, name, age): #define a constructor for your class\n",
    "        self.name = name\n",
    "        self.age = age #use the parameters from the constructor to assign values to variables within an object\n",
    "    \n",
    "    def birthday(self): #we can also associate other methods with a class\n",
    "        self.age += 1\n",
    "        return self.age\n",
    "    \n",
    "person1 = Person(\"Kelly\", 18)\n",
    "print(\"Name: \", person1.name, \" Age: \", person1.age)\n",
    "person1.birthday()\n",
    "print(\"Name: \", person1.name, \" Age: \", person1.age)\n",
    "\n",
    "#Methods can be defined without being associated with a class\n",
    "def add(x, y):\n",
    "    return x + y\n",
    "\n",
    "print(add(3, 2))"
   ]
  },
  {
   "cell_type": "markdown",
   "metadata": {},
   "source": [
    "### Reading and Writing to Files\n",
    "There are often going to be circumstances where you want to write to a file. Python is a lot more easy-going than other languages, in that it does not need you to wrap file requests in try-catch statements.\n",
    "\n",
    "Although the methods can be very different depending on what the file type is, reading and writing to text files is extremely simple."
   ]
  },
  {
   "cell_type": "code",
   "execution_count": 3,
   "metadata": {},
   "outputs": [
    {
     "name": "stdout",
     "output_type": "stream",
     "text": [
      "Hello World\n"
     ]
    }
   ],
   "source": [
    "file = open(\"testfile.txt\",\"w\") #first we create a file called testfile.txt and open it in 'write mode'\n",
    "\n",
    "#Note that there are four file modes in python:\n",
    "#‘r’ – Read mode which is used when the file is only being read \n",
    "#‘w’ – Write mode which is used to edit and write new information to the file (any existing files with the same name will be erased when this mode is activated) \n",
    "#‘a’ – Appending mode, which is used to add new data to the end of the file; that is new information is automatically amended to the end \n",
    "#‘r+’ – Special read and write mode, which is used to handle both actions when working with a file\n",
    " \n",
    "file.write(\"Hello World\") #then we write some contents to the file \n",
    " \n",
    "file.close() #you should always close files after working with them in Python - not doing so can lead to various errors\n",
    "\n",
    "file = open(\"testfile.txt\", \"r\") #finally, lets open the file again and check its contents\n",
    "print(file.read())\n",
    "file.close()"
   ]
  },
  {
   "cell_type": "markdown",
   "metadata": {},
   "source": [
    "### Exercise\n",
    "Create a new Jupyter notebook and attempt this exercise before moving on to the Advanced Python Collections Exercise.\n",
    "\n",
    "Create an object which stores various details about books, including:\n",
    "-  ISBN as a String\n",
    "-  Title as a String\n",
    "-  Price as a Float\n",
    "-  Author_Name as a List (i.e [\"John\", \"Smith\"])\n",
    "\n",
    "Then create a few book objects and loop through them to check you can write their information to a file.\n",
    "\n",
    "Lastly, create a method which will allow you to compare the last name of each author to see whether they are matching or not."
   ]
  },
  {
   "cell_type": "code",
   "execution_count": null,
   "metadata": {},
   "outputs": [],
   "source": []
  }
 ],
 "metadata": {
  "kernelspec": {
   "display_name": "Python 3",
   "language": "python",
   "name": "python3"
  },
  "language_info": {
   "codemirror_mode": {
    "name": "ipython",
    "version": 3
   },
   "file_extension": ".py",
   "mimetype": "text/x-python",
   "name": "python",
   "nbconvert_exporter": "python",
   "pygments_lexer": "ipython3",
   "version": "3.6.5"
  }
 },
 "nbformat": 4,
 "nbformat_minor": 2
}
